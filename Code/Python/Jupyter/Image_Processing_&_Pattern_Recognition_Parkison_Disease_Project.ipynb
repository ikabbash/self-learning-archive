{
  "nbformat": 4,
  "nbformat_minor": 0,
  "metadata": {
    "colab": {
      "provenance": []
    },
    "kernelspec": {
      "name": "python3",
      "display_name": "Python 3"
    },
    "language_info": {
      "name": "python"
    }
  },
  "cells": [
    {
      "cell_type": "code",
      "execution_count": null,
      "metadata": {
        "id": "Vt4wKI6zupqr",
        "colab": {
          "base_uri": "https://localhost:8080/"
        },
        "outputId": "918eca2d-f6a6-414c-b583-dd2f8ee10898"
      },
      "outputs": [
        {
          "output_type": "stream",
          "name": "stdout",
          "text": [
            "Drive already mounted at /content/drive; to attempt to forcibly remount, call drive.mount(\"/content/drive\", force_remount=True).\n"
          ]
        }
      ],
      "source": [
        "from keras.preprocessing.image import load_img, img_to_array\n",
        "import os\n",
        "import matplotlib.pyplot as plt\n",
        "from google.colab import drive\n",
        "drive.mount('/content/drive')\n",
        "plt.style.use('dark_background')\n",
        "\n",
        "from keras.models import Sequential\n",
        "from keras.layers import Conv2D, MaxPooling2D, Flatten, Dense\n",
        "from keras.preprocessing.image import ImageDataGenerator\n",
        "from tensorflow.keras import optimizers\n",
        "from tensorflow.keras.optimizers import Adam\n",
        "\n",
        "\n",
        "import pandas as pd\n",
        "import numpy as np\n",
        "import cv2\n",
        "from  matplotlib import pyplot as plt\n",
        "import matplotlib.image as mpimg\n",
        "import random\n",
        "from tqdm import tqdm\n",
        "%matplotlib inline\n",
        "\n",
        "from skimage.morphology import binary_dilation, binary_erosion,rectangle,square\n",
        "from skimage import data,color\n",
        "\n",
        "\n",
        "from tensorflow.keras.applications import ResNet152\n",
        "from tensorflow.python.keras.models import Sequential\n",
        "from tensorflow.python.keras.layers import Dense, Dropout\n",
        "from keras.callbacks import EarlyStopping\n",
        "from matplotlib import pyplot\n",
        "import matplotlib.pyplot as plt"
      ]
    },
    {
      "cell_type": "code",
      "source": [
        "# fun note: kernel is feature detector"
      ],
      "metadata": {
        "id": "DIxIU4aJuyhl"
      },
      "execution_count": null,
      "outputs": []
    },
    {
      "cell_type": "markdown",
      "source": [
        "# Image Processing"
      ],
      "metadata": {
        "id": "Y-1xc4P7JKY-"
      }
    },
    {
      "cell_type": "code",
      "source": [
        "def spiral_data(DIR):\n",
        "    label = DIR.split('/')[-1]\n",
        "    print(label)\n",
        "    i=0\n",
        "    print(os.listdir(DIR))\n",
        "    for img in tqdm(os.listdir(DIR)):\n",
        "      path = os.path.join(DIR,img)\n",
        "      img = cv2.imread(path,cv2.IMREAD_GRAYSCALE)\n",
        "      img = cv2.equalizeHist(img)\n",
        "      th, img = cv2.threshold(img,50,255, cv2.THRESH_BINARY_INV)\n",
        "      kernel = np.ones((3,3),np.uint8)\n",
        "      img = cv2.morphologyEx(img, cv2.MORPH_OPEN, kernel)\n",
        "      img = cv2.morphologyEx(img, cv2.MORPH_CLOSE, kernel)\n",
        "      img = cv2.dilate(img, kernel, iterations=1)\n",
        "      img = cv2.medianBlur(img, 3)\n",
        "      i=i+1\n",
        "      cv2.imwrite(f'/content/drive/MyDrive/dataset_new/spiral/{label}/{i}.jpg',img)\n",
        "\n",
        "def wave_data(DIR):\n",
        "    label = DIR.split('/')[-1]\n",
        "    print(label)\n",
        "    i=0\n",
        "    print(os.listdir(DIR))\n",
        "    for img in tqdm(os.listdir(DIR)):\n",
        "      path = os.path.join(DIR,img)\n",
        "      img = cv2.imread(path,cv2.IMREAD_GRAYSCALE)\n",
        "      img = cv2.equalizeHist(img)\n",
        "      th, img = cv2.threshold(img,50,255, cv2.THRESH_BINARY_INV)\n",
        "      kernel = np.ones((3,3),np.uint8)\n",
        "      img = cv2.morphologyEx(img, cv2.MORPH_OPEN, kernel)\n",
        "      img = cv2.morphologyEx(img, cv2.MORPH_CLOSE, kernel)\n",
        "      img = cv2.dilate(img, kernel, iterations=1)\n",
        "      img = cv2.medianBlur(img, 3)\n",
        "      i=i+1\n",
        "      cv2.imwrite(f'/content/drive/MyDrive/dataset_new/wave/{label}/{i}.jpg',img)\n",
        "\n",
        "\n",
        "spiral_data(\"../content/drive/MyDrive/Parkinson's Dataset/spiral/healthy\")\n",
        "spiral_data(\"../content/drive/MyDrive/Parkinson's Dataset/spiral/parkinson\")\n",
        "\n",
        "wave_data(\"../content/drive/MyDrive/Parkinson's Dataset/wave/healthy\")\n",
        "wave_data(\"../content/drive/MyDrive/Parkinson's Dataset/wave/parkinson\")"
      ],
      "metadata": {
        "colab": {
          "base_uri": "https://localhost:8080/"
        },
        "id": "nkYWTMAtJMgH",
        "outputId": "0113e05a-f270-4237-a21c-035f9d3b9454"
      },
      "execution_count": null,
      "outputs": [
        {
          "output_type": "stream",
          "name": "stdout",
          "text": [
            "healthy\n",
            "['V07HE01.png', 'V55HE14.png', 'V01HE03.png', 'V03HE3.png', 'V04HE03.png', 'V04HE01.png', 'V02HE03.png', 'V10HE01.png', 'V05HE02.png', 'V05HE03.png', 'V03HE1.png', 'V08HE01.png', 'V55HE15.png', 'V55HE12.png', 'V06HE02.png', 'V11HE01.png', 'V05HE01.png', 'V55HE13.png', 'V06HE01.png', 'V04HE02.png', 'V02HE02.png', 'V02HE01.png', 'V03HE2.png', 'V01HE02.png', 'V09HE01.png', 'V01HE01.png', 'V07HE02.png', 'V09HE02.png', 'V11HE03.png', 'V55HE05.png', 'V55HE03.png', 'V55HE11.png', 'V08HE02.png', 'V11HE02.png', 'V06HE03.png', 'V55HE04.png', 'V12HE01.png', 'V55HE09.png', 'V55HE01.png', 'V12HE03.png', 'V07HE03.png', 'V55HE08.png', 'V08HE03.png', 'V09HE03.png', 'V55HE07.png', 'V55HE06.png', 'V10HE02.png', 'V55HE02.png', 'V10HE03.png', 'V55HE10.png', 'V12HE02.png']\n"
          ]
        },
        {
          "output_type": "stream",
          "name": "stderr",
          "text": [
            "100%|██████████| 51/51 [00:00<00:00, 75.79it/s]\n"
          ]
        },
        {
          "output_type": "stream",
          "name": "stdout",
          "text": [
            "parkinson\n",
            "['V08PE01.png', 'V06PE01.png', 'V11PE03.png', 'V03PE07.png', 'V10PE03.png', 'V07PE01.png', 'V03PE04.png', 'V04PE01.png', 'V05PE01.png', 'V03PE01.png', 'V01PE01.png', 'V09PE01.png', 'V15PE01.png', 'V02PE01.png', 'V14PE03.png', 'V03PE09.png', 'V01PE02.png', 'V06PE03.png', 'V01PE03.png', 'V11PE02.png', 'V08PE03.png', 'V05PE02.png', 'V03PE05.png', 'V14PE02.png', 'V13PE01.png', 'V15PE02.png', 'V07PE03.png', 'V02PE02.png', 'V14PE01.png', 'V09PE02.png', 'V02PE03.png', 'V04PE02.png', 'V03PE08.png', 'V11PE01.png', 'V03PE02.png', 'V10PE02.png', 'V12PE03.png', 'V12PE02.png', 'V13PE02.png', 'V04PE03.png', 'V10PE01.png', 'V09PE03.png', 'V06PE02.png', 'V15PE03.png', 'V12PE01.png', 'V07PE02.png', 'V08PE02.png', 'V03PE03.png', 'V13PE03.png', 'V05PE03.png', 'V03PE06.png']\n"
          ]
        },
        {
          "output_type": "stream",
          "name": "stderr",
          "text": [
            "100%|██████████| 51/51 [00:00<00:00, 71.05it/s]\n"
          ]
        },
        {
          "output_type": "stream",
          "name": "stdout",
          "text": [
            "healthy\n",
            "['V07HO02.png', 'V04HO03.png', 'V12HO02.png', 'V09HO03.png', 'V01HO01.png', 'V08HO01.png', 'V55HO08.png', 'V07HO03.png', 'V55HO14.png', 'V06HO02.png', 'V06HO01.png', 'V55HO09.png', 'V08HO02.png', 'V01HO03.png', 'V55HO10.png', 'V55HO02.png', 'V06HO03.png', 'V03HO01.png', 'V03HO02.png', 'V10HO02.png', 'V12HO01.png', 'V01HO02.png', 'V04HO02.png', 'V12HO03.png', 'V05HO01.png', 'V02HO03.png', 'V04HO01.png', 'V55HO13.png', 'V55HO15.png', 'V09HO01.png', 'V10HO01.png', 'V03HO03.png', 'V07HO01.png', 'V55HO04.png', 'V55HO07.png', 'V02HO02.png', 'V11HO02.png', 'V10HO03.png', 'V55HO12.png', 'V11HO03.png', 'V11HO01.png', 'V55HO11.png', 'V55HO01.png', 'V55HO05.png', 'V09HO02.png', 'V08HO03.png', 'V55HO06.png', 'V02HO01.png', 'V05HO02.png', 'V55HO03.png', 'V05HO03.png']\n"
          ]
        },
        {
          "output_type": "stream",
          "name": "stderr",
          "text": [
            "100%|██████████| 51/51 [00:00<00:00, 60.26it/s]\n"
          ]
        },
        {
          "output_type": "stream",
          "name": "stdout",
          "text": [
            "parkinson\n",
            "['V14PO01.png', 'V13PO01.png', 'V13PO02.png', 'V11PO03.png', 'V03PO06.png', 'V05PO03.png', 'V02PO03.png', 'V06PO02.png', 'V10PO01.png', 'V09PO03.png', 'V12PO02.png', 'V03PO01.png', 'V05PO02.png', 'V11PO01.png', 'V13PO03.png', 'V01PO02.png', 'V07PO03.png', 'V08PO02.png', 'V03PO04.png', 'V09PO02.png', 'V03PO08.png', 'V02PO01.png', 'V03PO05.png', 'V01PO01.png', 'V02PO02.png', 'V12PO01.png', 'V07PO01.png', 'V12PO03.png', 'V04PO02.png', 'V08PO01.png', 'V08PO03.png', 'V03PO02.png', 'V14PO03.png', 'V06PO03.png', 'V03PO07.png', 'V10PO02.png', 'V10PO03.png', 'V11PO02.png', 'V15PO03.png', 'V15PO02.png', 'V01PO03.png', 'V03PO03.png', 'V14PO02.png', 'V15PO01.png', 'V09PO01.png', 'V04PO03.png', 'V03PO09.png', 'V04PO01.png', 'V06PO01.png', 'V07PO02.png', 'V05PO01.png']\n"
          ]
        },
        {
          "output_type": "stream",
          "name": "stderr",
          "text": [
            "100%|██████████| 51/51 [00:00<00:00, 57.55it/s]\n"
          ]
        }
      ]
    },
    {
      "cell_type": "markdown",
      "source": [
        "# Classifier"
      ],
      "metadata": {
        "id": "fllxfEILLvyH"
      }
    },
    {
      "cell_type": "code",
      "source": [
        "import tensorflow as tf\n",
        "\n",
        "\n",
        "spiral_train = tf.keras.preprocessing.image_dataset_from_directory(\n",
        "    \"/content/drive/MyDrive/dataset_new/spiral\",\n",
        "    validation_split=0.2,\n",
        "    subset=\"training\",\n",
        "    seed=1337,\n",
        "    image_size=(128, 128),\n",
        "    batch_size=32,\n",
        "    label_mode='binary'\n",
        ")\n",
        "spiral_val = tf.keras.preprocessing.image_dataset_from_directory(\n",
        "    \"/content/drive/MyDrive/dataset_new/spiral\",\n",
        "    validation_split=0.2,\n",
        "    subset=\"validation\",\n",
        "    seed=1337,\n",
        "    image_size=(128, 128),\n",
        "    batch_size=32,\n",
        "    label_mode='binary'\n",
        ")\n",
        "\n",
        "wave_train = tf.keras.preprocessing.image_dataset_from_directory(\n",
        "    \"/content/drive/MyDrive/dataset_new/wave\",\n",
        "    validation_split=0.2,\n",
        "    subset=\"training\",\n",
        "    seed=1337,\n",
        "    image_size=(128, 128),\n",
        "    batch_size=32,\n",
        "    label_mode='binary'\n",
        ")\n",
        "wave_val = tf.keras.preprocessing.image_dataset_from_directory(\n",
        "    \"/content/drive/MyDrive/dataset_new/wave\",\n",
        "    validation_split=0.2,\n",
        "    subset=\"validation\",\n",
        "    seed=1337,\n",
        "    image_size=(128, 128),\n",
        "    batch_size=32,\n",
        "    label_mode='binary'\n",
        ")"
      ],
      "metadata": {
        "colab": {
          "base_uri": "https://localhost:8080/"
        },
        "id": "MExT58Hv4yr1",
        "outputId": "0e7791a2-50ce-4d60-d6de-56e37557a341"
      },
      "execution_count": null,
      "outputs": [
        {
          "output_type": "stream",
          "name": "stdout",
          "text": [
            "Found 111 files belonging to 2 classes.\n",
            "Using 89 files for training.\n",
            "Found 111 files belonging to 2 classes.\n",
            "Using 22 files for validation.\n",
            "Found 111 files belonging to 2 classes.\n",
            "Using 89 files for training.\n",
            "Found 111 files belonging to 2 classes.\n",
            "Using 22 files for validation.\n"
          ]
        }
      ]
    },
    {
      "cell_type": "markdown",
      "source": [
        "Spiral Training"
      ],
      "metadata": {
        "id": "DE1MRtU55LFw"
      }
    },
    {
      "cell_type": "code",
      "source": [
        "classifier=Sequential()\n",
        "classifier.add(Conv2D(32,(3,3),input_shape=(128, 128, 3),activation='relu'))\n",
        "classifier.add(MaxPooling2D(pool_size=(2,2)))\n",
        "classifier.add(Conv2D(32,(3,3),activation='relu'))\n",
        "classifier.add(MaxPooling2D(pool_size=(2,2)))\n",
        "classifier.add(Flatten())\n",
        "classifier.add(Dense(activation='relu',units=128))\n",
        "classifier.add(Dense(activation='sigmoid',units=1))\n",
        "\n",
        "classifier.compile(optimizer = \"adam\", loss = 'binary_crossentropy', metrics = ['accuracy'])\n",
        "\n",
        "history=classifier.fit(spiral_train, validation_data = spiral_val, epochs = 30, batch_size=32)"
      ],
      "metadata": {
        "id": "Ts30LFQxGoFs",
        "colab": {
          "base_uri": "https://localhost:8080/"
        },
        "outputId": "b3701379-0f47-483f-8776-89fd8ef1bb52"
      },
      "execution_count": null,
      "outputs": [
        {
          "output_type": "stream",
          "name": "stdout",
          "text": [
            "Epoch 1/30\n",
            "3/3 [==============================] - 3s 623ms/step - loss: 536.6604 - accuracy: 0.5281 - val_loss: 26.6803 - val_accuracy: 0.6818\n",
            "Epoch 2/30\n",
            "3/3 [==============================] - 2s 556ms/step - loss: 83.7913 - accuracy: 0.4382 - val_loss: 104.7410 - val_accuracy: 0.4091\n",
            "Epoch 3/30\n",
            "3/3 [==============================] - 2s 561ms/step - loss: 53.9430 - accuracy: 0.5618 - val_loss: 39.1464 - val_accuracy: 0.4091\n",
            "Epoch 4/30\n",
            "3/3 [==============================] - 2s 564ms/step - loss: 13.9140 - accuracy: 0.5618 - val_loss: 1.4515 - val_accuracy: 0.6364\n",
            "Epoch 5/30\n",
            "3/3 [==============================] - 2s 560ms/step - loss: 2.8062 - accuracy: 0.7079 - val_loss: 7.7858 - val_accuracy: 0.5909\n",
            "Epoch 6/30\n",
            "3/3 [==============================] - 2s 564ms/step - loss: 8.4999 - accuracy: 0.4382 - val_loss: 6.4519 - val_accuracy: 0.5909\n",
            "Epoch 7/30\n",
            "3/3 [==============================] - 2s 566ms/step - loss: 5.1310 - accuracy: 0.4382 - val_loss: 2.7959 - val_accuracy: 0.6364\n",
            "Epoch 8/30\n",
            "3/3 [==============================] - 2s 558ms/step - loss: 1.0776 - accuracy: 0.7191 - val_loss: 0.8036 - val_accuracy: 0.8636\n",
            "Epoch 9/30\n",
            "3/3 [==============================] - 2s 561ms/step - loss: 0.0578 - accuracy: 0.9775 - val_loss: 1.1695 - val_accuracy: 0.6818\n",
            "Epoch 10/30\n",
            "3/3 [==============================] - 2s 573ms/step - loss: 0.1546 - accuracy: 0.9438 - val_loss: 2.0889 - val_accuracy: 0.5455\n",
            "Epoch 11/30\n",
            "3/3 [==============================] - 2s 573ms/step - loss: 0.3494 - accuracy: 0.8876 - val_loss: 2.6961 - val_accuracy: 0.5000\n",
            "Epoch 12/30\n",
            "3/3 [==============================] - 2s 548ms/step - loss: 0.4509 - accuracy: 0.8427 - val_loss: 2.7864 - val_accuracy: 0.5000\n",
            "Epoch 13/30\n",
            "3/3 [==============================] - 2s 544ms/step - loss: 0.3814 - accuracy: 0.8652 - val_loss: 2.4900 - val_accuracy: 0.5455\n",
            "Epoch 14/30\n",
            "3/3 [==============================] - 2s 548ms/step - loss: 0.2505 - accuracy: 0.9326 - val_loss: 2.0196 - val_accuracy: 0.5455\n",
            "Epoch 15/30\n",
            "3/3 [==============================] - 2s 554ms/step - loss: 0.1178 - accuracy: 0.9663 - val_loss: 1.6052 - val_accuracy: 0.5909\n",
            "Epoch 16/30\n",
            "3/3 [==============================] - 2s 537ms/step - loss: 0.0518 - accuracy: 0.9888 - val_loss: 1.2918 - val_accuracy: 0.6364\n",
            "Epoch 17/30\n",
            "3/3 [==============================] - 2s 539ms/step - loss: 0.0197 - accuracy: 0.9888 - val_loss: 1.0763 - val_accuracy: 0.6364\n",
            "Epoch 18/30\n",
            "3/3 [==============================] - 2s 539ms/step - loss: 0.0084 - accuracy: 1.0000 - val_loss: 0.9328 - val_accuracy: 0.6818\n",
            "Epoch 19/30\n",
            "3/3 [==============================] - 2s 542ms/step - loss: 0.0058 - accuracy: 1.0000 - val_loss: 0.8385 - val_accuracy: 0.5909\n",
            "Epoch 20/30\n",
            "3/3 [==============================] - 2s 538ms/step - loss: 0.0032 - accuracy: 1.0000 - val_loss: 0.7784 - val_accuracy: 0.5909\n",
            "Epoch 21/30\n",
            "3/3 [==============================] - 2s 547ms/step - loss: 0.0029 - accuracy: 1.0000 - val_loss: 0.7393 - val_accuracy: 0.5909\n",
            "Epoch 22/30\n",
            "3/3 [==============================] - 2s 539ms/step - loss: 0.0028 - accuracy: 1.0000 - val_loss: 0.7147 - val_accuracy: 0.5909\n",
            "Epoch 23/30\n",
            "3/3 [==============================] - 2s 547ms/step - loss: 0.0028 - accuracy: 1.0000 - val_loss: 0.6995 - val_accuracy: 0.5909\n",
            "Epoch 24/30\n",
            "3/3 [==============================] - 2s 540ms/step - loss: 0.0029 - accuracy: 1.0000 - val_loss: 0.6906 - val_accuracy: 0.5909\n",
            "Epoch 25/30\n",
            "3/3 [==============================] - 2s 541ms/step - loss: 0.0029 - accuracy: 1.0000 - val_loss: 0.6858 - val_accuracy: 0.5909\n",
            "Epoch 26/30\n",
            "3/3 [==============================] - 2s 544ms/step - loss: 0.0028 - accuracy: 1.0000 - val_loss: 0.6840 - val_accuracy: 0.5909\n",
            "Epoch 27/30\n",
            "3/3 [==============================] - 2s 541ms/step - loss: 0.0028 - accuracy: 1.0000 - val_loss: 0.6846 - val_accuracy: 0.5909\n",
            "Epoch 28/30\n",
            "3/3 [==============================] - 2s 544ms/step - loss: 0.0027 - accuracy: 1.0000 - val_loss: 0.6865 - val_accuracy: 0.5909\n",
            "Epoch 29/30\n",
            "3/3 [==============================] - 2s 539ms/step - loss: 0.0026 - accuracy: 1.0000 - val_loss: 0.6892 - val_accuracy: 0.5909\n",
            "Epoch 30/30\n",
            "3/3 [==============================] - 2s 541ms/step - loss: 0.0025 - accuracy: 1.0000 - val_loss: 0.6929 - val_accuracy: 0.5909\n"
          ]
        }
      ]
    },
    {
      "cell_type": "markdown",
      "source": [
        "Spiral Plot"
      ],
      "metadata": {
        "id": "tC2pZVOk5QhI"
      }
    },
    {
      "cell_type": "code",
      "source": [
        "plt.style.use('dark_background')\n",
        "plt.figure(figsize=(12,6))\n",
        "plt.subplot(1,2,1)\n",
        "plt.ylabel('Accuracy', fontsize=16)\n",
        "plt.plot(history.history['accuracy'], label='Training Accuracy', color = 'green')\n",
        "plt.legend(loc='lower right')\n",
        "\n",
        "\n",
        "\n",
        "plt.subplot(1,2,2)\n",
        "plt.ylabel('Loss', fontsize=16)\n",
        "plt.plot(history.history['loss'], label='Training Loss', color = 'red')\n",
        "plt.legend(loc='lower right')\n",
        "plt.show()"
      ],
      "metadata": {
        "colab": {
          "base_uri": "https://localhost:8080/",
          "height": 374
        },
        "id": "GpNfoF5zOCwx",
        "outputId": "1951eb86-1e4e-439a-c48e-ed919ab1352c"
      },
      "execution_count": null,
      "outputs": [
        {
          "output_type": "display_data",
          "data": {
            "text/plain": [
              "<Figure size 864x432 with 2 Axes>"
            ],
            "image/png": "[encoded data removed]"
          },
          "metadata": {}
        }
      ]
    },
    {
      "cell_type": "markdown",
      "source": [
        "Wave Training and Plot"
      ],
      "metadata": {
        "id": "BOVl6wn05USI"
      }
    },
    {
      "cell_type": "code",
      "source": [
        "history=classifier.fit(wave_train, validation_data = wave_val, epochs = 30, batch_size=32)\n",
        "\n",
        "plt.style.use('dark_background')\n",
        "plt.figure(figsize=(12,6))\n",
        "plt.subplot(1,2,1)\n",
        "plt.ylabel('Accuracy', fontsize=16)\n",
        "plt.plot(history.history['accuracy'], label='Training Accuracy', color = 'green')\n",
        "plt.legend(loc='lower right')\n",
        "\n",
        "\n",
        "\n",
        "plt.subplot(1,2,2)\n",
        "plt.ylabel('Loss', fontsize=16)\n",
        "plt.plot(history.history['loss'], label='Training Loss', color = 'red')\n",
        "plt.legend(loc='lower right')\n",
        "plt.show()"
      ],
      "metadata": {
        "colab": {
          "base_uri": "https://localhost:8080/",
          "height": 1000
        },
        "id": "qyOua0Ny5V55",
        "outputId": "31c70fc2-f788-4cd6-8428-7de0df31bf5e"
      },
      "execution_count": null,
      "outputs": [
        {
          "output_type": "stream",
          "name": "stdout",
          "text": [
            "Epoch 1/30\n",
            "3/3 [==============================] - 2s 547ms/step - loss: 2.6929 - accuracy: 0.4157 - val_loss: 0.7000 - val_accuracy: 0.5455\n",
            "Epoch 2/30\n",
            "3/3 [==============================] - 2s 549ms/step - loss: 0.9605 - accuracy: 0.5843 - val_loss: 1.3728 - val_accuracy: 0.4545\n",
            "Epoch 3/30\n",
            "3/3 [==============================] - 2s 544ms/step - loss: 0.7093 - accuracy: 0.6517 - val_loss: 1.2435 - val_accuracy: 0.4545\n",
            "Epoch 4/30\n",
            "3/3 [==============================] - 2s 548ms/step - loss: 0.3547 - accuracy: 0.7865 - val_loss: 0.7813 - val_accuracy: 0.5909\n",
            "Epoch 5/30\n",
            "3/3 [==============================] - 2s 544ms/step - loss: 0.1669 - accuracy: 0.9888 - val_loss: 0.5495 - val_accuracy: 0.5909\n",
            "Epoch 6/30\n",
            "3/3 [==============================] - 2s 541ms/step - loss: 0.1330 - accuracy: 1.0000 - val_loss: 0.4768 - val_accuracy: 0.6818\n",
            "Epoch 7/30\n",
            "3/3 [==============================] - 2s 545ms/step - loss: 0.1191 - accuracy: 1.0000 - val_loss: 0.4498 - val_accuracy: 0.7273\n",
            "Epoch 8/30\n",
            "3/3 [==============================] - 2s 555ms/step - loss: 0.0956 - accuracy: 1.0000 - val_loss: 0.4400 - val_accuracy: 0.7727\n",
            "Epoch 9/30\n",
            "3/3 [==============================] - 2s 550ms/step - loss: 0.0698 - accuracy: 1.0000 - val_loss: 0.4448 - val_accuracy: 0.7273\n",
            "Epoch 10/30\n",
            "3/3 [==============================] - 2s 546ms/step - loss: 0.0464 - accuracy: 1.0000 - val_loss: 0.4620 - val_accuracy: 0.7273\n",
            "Epoch 11/30\n",
            "3/3 [==============================] - 2s 541ms/step - loss: 0.0327 - accuracy: 1.0000 - val_loss: 0.4877 - val_accuracy: 0.6818\n",
            "Epoch 12/30\n",
            "3/3 [==============================] - 2s 539ms/step - loss: 0.0239 - accuracy: 1.0000 - val_loss: 0.5171 - val_accuracy: 0.6818\n",
            "Epoch 13/30\n",
            "3/3 [==============================] - 2s 545ms/step - loss: 0.0185 - accuracy: 1.0000 - val_loss: 0.5466 - val_accuracy: 0.6818\n",
            "Epoch 14/30\n",
            "3/3 [==============================] - 2s 540ms/step - loss: 0.0153 - accuracy: 1.0000 - val_loss: 0.5728 - val_accuracy: 0.5909\n",
            "Epoch 15/30\n",
            "3/3 [==============================] - 2s 548ms/step - loss: 0.0129 - accuracy: 1.0000 - val_loss: 0.5944 - val_accuracy: 0.5909\n",
            "Epoch 16/30\n",
            "3/3 [==============================] - 2s 545ms/step - loss: 0.0112 - accuracy: 1.0000 - val_loss: 0.6101 - val_accuracy: 0.5909\n",
            "Epoch 17/30\n",
            "3/3 [==============================] - 2s 540ms/step - loss: 0.0099 - accuracy: 1.0000 - val_loss: 0.6204 - val_accuracy: 0.5909\n",
            "Epoch 18/30\n",
            "3/3 [==============================] - 2s 540ms/step - loss: 0.0089 - accuracy: 1.0000 - val_loss: 0.6260 - val_accuracy: 0.5909\n",
            "Epoch 19/30\n",
            "3/3 [==============================] - 2s 539ms/step - loss: 0.0081 - accuracy: 1.0000 - val_loss: 0.6281 - val_accuracy: 0.5909\n",
            "Epoch 20/30\n",
            "3/3 [==============================] - 2s 547ms/step - loss: 0.0073 - accuracy: 1.0000 - val_loss: 0.6277 - val_accuracy: 0.5909\n",
            "Epoch 21/30\n",
            "3/3 [==============================] - 2s 550ms/step - loss: 0.0067 - accuracy: 1.0000 - val_loss: 0.6252 - val_accuracy: 0.5909\n",
            "Epoch 22/30\n",
            "3/3 [==============================] - 2s 546ms/step - loss: 0.0061 - accuracy: 1.0000 - val_loss: 0.6222 - val_accuracy: 0.5909\n",
            "Epoch 23/30\n",
            "3/3 [==============================] - 2s 541ms/step - loss: 0.0057 - accuracy: 1.0000 - val_loss: 0.6181 - val_accuracy: 0.6364\n",
            "Epoch 24/30\n",
            "3/3 [==============================] - 2s 540ms/step - loss: 0.0053 - accuracy: 1.0000 - val_loss: 0.6137 - val_accuracy: 0.6364\n",
            "Epoch 25/30\n",
            "3/3 [==============================] - 2s 545ms/step - loss: 0.0049 - accuracy: 1.0000 - val_loss: 0.6090 - val_accuracy: 0.6364\n",
            "Epoch 26/30\n",
            "3/3 [==============================] - 2s 547ms/step - loss: 0.0046 - accuracy: 1.0000 - val_loss: 0.6037 - val_accuracy: 0.6364\n",
            "Epoch 27/30\n",
            "3/3 [==============================] - 2s 539ms/step - loss: 0.0043 - accuracy: 1.0000 - val_loss: 0.5986 - val_accuracy: 0.6364\n",
            "Epoch 28/30\n",
            "3/3 [==============================] - 2s 540ms/step - loss: 0.0041 - accuracy: 1.0000 - val_loss: 0.5941 - val_accuracy: 0.6364\n",
            "Epoch 29/30\n",
            "3/3 [==============================] - 2s 545ms/step - loss: 0.0038 - accuracy: 1.0000 - val_loss: 0.5898 - val_accuracy: 0.6364\n",
            "Epoch 30/30\n",
            "3/3 [==============================] - 2s 542ms/step - loss: 0.0036 - accuracy: 1.0000 - val_loss: 0.5860 - val_accuracy: 0.6364\n"
          ]
        },
        {
          "output_type": "display_data",
          "data": {
            "text/plain": [
              "<Figure size 864x432 with 2 Axes>"
            ],
            "image/png": "[encoded data removed]"
          },
          "metadata": {}
        }
      ]
    }
  ]
}